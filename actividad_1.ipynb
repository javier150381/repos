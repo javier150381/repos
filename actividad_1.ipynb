{
 "cells": [
  {
   "cell_type": "code",
   "execution_count": 69,
   "metadata": {},
   "outputs": [
    {
     "name": "stdout",
     "output_type": "stream",
     "text": [
      "rm: no se puede borrar '/tmp/*.png': No existe el archivo o el directorio\n",
      "--2020-01-28 16:39:18--  https://media.xiph.org/video/derf/y4m/container_cif.y4m\n",
      "Resolviendo media.xiph.org (media.xiph.org)... 54.39.18.101, 2607:5300:203:2965::\n",
      "Conectando con media.xiph.org (media.xiph.org)[54.39.18.101]:443... conectado.\n",
      "Petición HTTP enviada, esperando respuesta... 200 OK\n",
      "Longitud: 45621044 (44M)\n",
      "Guardando como: “/tmp/container_cif.y4m”\n",
      "\n",
      "/tmp/container_cif. 100%[===================>]  43,51M  12,6MB/s    en 3,7s    \n",
      "\n",
      "2020-01-28 16:39:22 (11,8 MB/s) - “/tmp/container_cif.y4m” guardado [45621044/45621044]\n",
      "\n",
      "MPlayer 1.3.0 (Debian), built with gcc-7 (C) 2000-2016 MPlayer Team\n",
      "do_connect: could not connect to socket\n",
      "connect: No such file or directory\n",
      "Failed to open LIRC support. You will not be able to use your remote control.\n",
      "\n",
      "Playing /tmp/container_cif.y4m.\n",
      "libavformat version 57.83.100 (external)\n",
      "libavformat file format detected.\n",
      "[lavf] stream 0: video (rawvideo), -vid 0\n",
      "VIDEO:  [I420]  352x288  0bpp  29.970 fps    0.0 kbps ( 0.0 kbyte/s)\n",
      "Failed to open VDPAU backend libvdpau_nvidia.so: cannot open shared object file: No such file or directory\n",
      "[vdpau] Error when calling vdp_device_create_x11: 1\n",
      "[VO_XV] It seems there is no Xvideo support for your video card available.\n",
      "[VO_XV] Run 'xvinfo' to verify its Xv support and read\n",
      "[VO_XV] DOCS/HTML/en/video.html#xv!\n",
      "[VO_XV] See 'mplayer -vo help' for other (non-xv) video out drivers.\n",
      "[VO_XV] Try -vo x11.\n",
      "==========================================================================\n",
      "Opening video decoder: [raw] RAW Uncompressed Video\n",
      "Movie-Aspect is 1.34:1 - prescaling to correct movie aspect.\n",
      "VO: [x11] 352x288 => 386x288 Planar I420 \n",
      "[swscaler @ 0x7f31f2e77020]bicubic scaler, from yuv420p to bgra using MMXEXT\n",
      "[swscaler @ 0x7f31f2e77020]using unscaled yuv420p -> bgra special converter\n",
      "Selected video codec: [rawi420] vfm: raw (RAW I420)\n",
      "==========================================================================\n",
      "Load subtitles in /tmp/\n",
      "Audio: no sound\n",
      "Starting playback...\n",
      "V:  10.0   0/  0  0%  3%  0.0% 0 0 \u001b[J\n",
      "\n",
      "\n",
      "Exiting... (End of file)\n",
      "ffmpeg version 3.4.6-0ubuntu0.18.04.1 Copyright (c) 2000-2019 the FFmpeg developers\n",
      "  built with gcc 7 (Ubuntu 7.3.0-16ubuntu3)\n",
      "  configuration: --prefix=/usr --extra-version=0ubuntu0.18.04.1 --toolchain=hardened --libdir=/usr/lib/x86_64-linux-gnu --incdir=/usr/include/x86_64-linux-gnu --enable-gpl --disable-stripping --enable-avresample --enable-avisynth --enable-gnutls --enable-ladspa --enable-libass --enable-libbluray --enable-libbs2b --enable-libcaca --enable-libcdio --enable-libflite --enable-libfontconfig --enable-libfreetype --enable-libfribidi --enable-libgme --enable-libgsm --enable-libmp3lame --enable-libmysofa --enable-libopenjpeg --enable-libopenmpt --enable-libopus --enable-libpulse --enable-librubberband --enable-librsvg --enable-libshine --enable-libsnappy --enable-libsoxr --enable-libspeex --enable-libssh --enable-libtheora --enable-libtwolame --enable-libvorbis --enable-libvpx --enable-libwavpack --enable-libwebp --enable-libx265 --enable-libxml2 --enable-libxvid --enable-libzmq --enable-libzvbi --enable-omx --enable-openal --enable-opengl --enable-sdl2 --enable-libdc1394 --enable-libdrm --enable-libiec61883 --enable-chromaprint --enable-frei0r --enable-libopencv --enable-libx264 --enable-shared\n",
      "  libavutil      55. 78.100 / 55. 78.100\n",
      "  libavcodec     57.107.100 / 57.107.100\n",
      "  libavformat    57. 83.100 / 57. 83.100\n",
      "  libavdevice    57. 10.100 / 57. 10.100\n",
      "  libavfilter     6.107.100 /  6.107.100\n",
      "  libavresample   3.  7.  0 /  3.  7.  0\n",
      "  libswscale      4.  8.100 /  4.  8.100\n",
      "  libswresample   2.  9.100 /  2.  9.100\n",
      "  libpostproc    54.  7.100 / 54.  7.100\n",
      "Input #0, yuv4mpegpipe, from '/tmp/container_cif.y4m':\n",
      "  Duration: 00:00:10.01, start: 0.000000, bitrate: 36460 kb/s\n",
      "    Stream #0:0: Video: rawvideo (I420 / 0x30323449), yuv420p(progressive), 352x288, SAR 128:117 DAR 1408:1053, 29.97 fps, 29.97 tbr, 29.97 tbn, 29.97 tbc\n",
      "Stream mapping:\n",
      "  Stream #0:0 -> #0:0 (rawvideo (native) -> png (native))\n",
      "Press [q] to stop, [?] for help\n",
      "Output #0, image2, to '/tmp/%03d.png':\n",
      "  Metadata:\n",
      "    encoder         : Lavf57.83.100\n",
      "    Stream #0:0: Video: png, rgb24, 352x288 [SAR 128:117 DAR 1408:1053], q=2-31, 200 kb/s, 29.97 fps, 29.97 tbn, 29.97 tbc\n",
      "    Metadata:\n",
      "      encoder         : Lavc57.107.100 png\n",
      "frame=   15 fps=0.0 q=-0.0 Lsize=N/A time=00:00:00.50 bitrate=N/A speed=0.923x    \n",
      "video:2573kB audio:0kB subtitle:0kB other streams:0kB global headers:0kB muxing overhead: unknown\n",
      "usage: MCDWT.py [-h] [-b] [-p PREFIX] [-N DECOMPOSITIONS] [-T ITERATIONS]\n",
      "                [-P PREDICTOR]\n",
      "MCDWT.py: error: argument -N/--decompositions: expected one argument\n",
      "-rw-r--r-- 1 pato1 pato1 72357 ene 28 16:39 /tmp/LH000.png\t-rw-r--r-- 1 pato1 pato1 72357 ene 28 16:39 /tmp/tmp/LH000.png\n",
      "-rw-r--r-- 1 pato1 pato1 72199 ene 28 16:39 /tmp/LH001.png\t-rw-r--r-- 1 pato1 pato1 72199 ene 28 16:39 /tmp/tmp/LH001.png\n",
      "-rw-r--r-- 1 pato1 pato1 72070 ene 28 16:39 /tmp/LH002.png\t-rw-r--r-- 1 pato1 pato1 72070 ene 28 16:39 /tmp/tmp/LH002.png\n",
      "-rw-r--r-- 1 pato1 pato1 72017 ene 28 16:39 /tmp/LH003.png\t-rw-r--r-- 1 pato1 pato1 72017 ene 28 16:39 /tmp/tmp/LH003.png\n",
      "-rw-r--r-- 1 pato1 pato1 71798 ene 28 16:39 /tmp/LH004.png\t-rw-r--r-- 1 pato1 pato1 71798 ene 28 16:39 /tmp/tmp/LH004.png\n",
      "-rw-r--r-- 1 pato1 pato1 71825 ene 28 16:39 /tmp/LH005.png\t-rw-r--r-- 1 pato1 pato1 71825 ene 28 16:39 /tmp/tmp/LH005.png\n",
      "-rw-r--r-- 1 pato1 pato1 72002 ene 28 16:39 /tmp/LH006.png\t-rw-r--r-- 1 pato1 pato1 72002 ene 28 16:39 /tmp/tmp/LH006.png\n",
      "-rw-r--r-- 1 pato1 pato1 71846 ene 28 16:39 /tmp/LH007.png\t-rw-r--r-- 1 pato1 pato1 71846 ene 28 16:39 /tmp/tmp/LH007.png\n",
      "-rw-r--r-- 1 pato1 pato1 72007 ene 28 16:39 /tmp/LH008.png\t-rw-r--r-- 1 pato1 pato1 72007 ene 28 16:39 /tmp/tmp/LH008.png\n",
      "-rw-r--r-- 1 pato1 pato1 72171 ene 28 16:39 /tmp/LH009.png\t-rw-r--r-- 1 pato1 pato1 72171 ene 28 16:39 /tmp/tmp/LH009.png\n",
      "-rw-r--r-- 1 pato1 pato1 72203 ene 28 16:39 /tmp/LH010.png\t-rw-r--r-- 1 pato1 pato1 72203 ene 28 16:39 /tmp/tmp/LH010.png\n",
      "-rw-r--r-- 1 pato1 pato1 72174 ene 28 16:39 /tmp/LH011.png\t-rw-r--r-- 1 pato1 pato1 72174 ene 28 16:39 /tmp/tmp/LH011.png\n",
      "-rw-r--r-- 1 pato1 pato1 72002 ene 28 16:39 /tmp/LH012.png\t-rw-r--r-- 1 pato1 pato1 72002 ene 28 16:39 /tmp/tmp/LH012.png\n",
      "-rw-r--r-- 1 pato1 pato1 72071 ene 28 16:39 /tmp/LH013.png\t-rw-r--r-- 1 pato1 pato1 72071 ene 28 16:39 /tmp/tmp/LH013.png\n",
      "-rw-r--r-- 1 pato1 pato1 72045 ene 28 16:39 /tmp/LH014.png\t-rw-r--r-- 1 pato1 pato1 72045 ene 28 16:39 /tmp/tmp/LH014.png\n"
     ]
    }
   ],
   "source": [
    "  # You must be in the ’src’ directory.  \n",
    "!rm /tmp/*.png  \n",
    "!wget https://media.xiph.org/video/derf/y4m/container_cif.y4m -O /tmp/container_cif.y4m\n",
    "!mplayer /tmp/container_cif.y4m \n",
    "!ffmpeg -i /tmp/container_cif.y4m -vframes 15 -start_number 0 /tmp/%03d.png  \n",
    "!rm -rf /tmp/original  \n",
    "!mkdir /tmp/original \n",
    "!cp /tmp/0*.png /tmp/original  \n",
    "\n",
    "# 1D 1-iteration MDWT.  \n",
    "!python3 -O MDWT.py -p /tmp/ -N 15\n",
    " \n",
    "# Save a copy of the MDWT subbands (for comparing later).  \n",
    "!rm -rf /tmp/tmp  \n",
    "!mkdir /tmp/tmp  \n",
    "!cp /tmp/LL*.png /tmp/tmp  \n",
    "!cp /tmp/LH*.png /tmp/tmp  \n",
    "!cp /tmp/HL*.png /tmp/tmp  \n",
    "!cp /tmp/HH*.png /tmp/tmp  \n",
    " \n",
    "# 4-iterations MCDWT.  \n",
    "!python3 -O MCDWT.py -p /tmp/ -T 2 -N  \n",
    " \n",
    "!ls -l /tmp/LH*.png > /tmp/1  \n",
    "!ls -l /tmp/tmp/LH*.png > /tmp/2  \n",
    "!paste /tmp/1 /tmp/2 "
   ]
  },
  {
   "cell_type": "code",
   "execution_count": 70,
   "metadata": {},
   "outputs": [
    {
     "name": "stdout",
     "output_type": "stream",
     "text": [
      "4175432\n"
     ]
    }
   ],
   "source": [
    "import os\n",
    "def get_dir_size(the_path):\n",
    "    \"\"\"Get size of a directory tree in bytes.\"\"\"\n",
    "    path_size = 0\n",
    "    for path, dirs, files in os.walk(the_path):\n",
    "        for fil in files:\n",
    "            filename = os.path.join(path, fil)\n",
    "            path_size += os.path.getsize(filename)\n",
    "    return path_size\n",
    "\n",
    "\n",
    "t1 = get_dir_size('/tmp/tmp')\n",
    "print(t1)"
   ]
  },
  {
   "cell_type": "code",
   "execution_count": 71,
   "metadata": {},
   "outputs": [
    {
     "name": "stdout",
     "output_type": "stream",
     "text": [
      "2635101\n"
     ]
    }
   ],
   "source": [
    "t2= get_dir_size('/tmp/original')\n",
    "print(t2)"
   ]
  },
  {
   "cell_type": "code",
   "execution_count": 72,
   "metadata": {},
   "outputs": [
    {
     "name": "stdout",
     "output_type": "stream",
     "text": [
      "0.6310966146736433\n"
     ]
    }
   ],
   "source": [
    "c=t2/t1\n",
    "print(c)"
   ]
  },
  {
   "cell_type": "code",
   "execution_count": null,
   "metadata": {},
   "outputs": [],
   "source": []
  }
 ],
 "metadata": {
  "kernelspec": {
   "display_name": "Python 3",
   "language": "python",
   "name": "python3"
  },
  "language_info": {
   "codemirror_mode": {
    "name": "ipython",
    "version": 3
   },
   "file_extension": ".py",
   "mimetype": "text/x-python",
   "name": "python",
   "nbconvert_exporter": "python",
   "pygments_lexer": "ipython3",
   "version": "3.6.9"
  }
 },
 "nbformat": 4,
 "nbformat_minor": 4
}
